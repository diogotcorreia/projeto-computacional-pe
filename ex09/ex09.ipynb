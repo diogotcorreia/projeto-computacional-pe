{
 "cells": [
  {
   "cell_type": "code",
   "execution_count": 103,
   "metadata": {
    "vscode": {
     "languageId": "r"
    }
   },
   "outputs": [],
   "source": [
    "library(\"Rmisc\")\n",
    "library(\"ggplot2\")"
   ]
  },
  {
   "cell_type": "code",
   "execution_count": 104,
   "metadata": {
    "vscode": {
     "languageId": "r"
    }
   },
   "outputs": [],
   "source": [
    "SEED <- 992\n",
    "M <- 900\n",
    "LAMBDA <- 0.98\n",
    "CONF_LEVEL <- 0.93"
   ]
  },
  {
   "cell_type": "code",
   "execution_count": 105,
   "metadata": {
    "vscode": {
     "languageId": "r"
    }
   },
   "outputs": [],
   "source": [
    "set.seed(SEED)"
   ]
  },
  {
   "cell_type": "code",
   "execution_count": 106,
   "metadata": {
    "vscode": {
     "languageId": "r"
    }
   },
   "outputs": [
    {
     "data": {
      "text/html": [
       "<table class=\"dataframe\">\n",
       "<caption>A data.frame: 50 × 2</caption>\n",
       "<thead>\n",
       "\t<tr><th scope=col>n</th><th scope=col>amplitude</th></tr>\n",
       "\t<tr><th scope=col>&lt;dbl&gt;</th><th scope=col>&lt;dbl&gt;</th></tr>\n",
       "</thead>\n",
       "<tbody>\n",
       "\t<tr><td> 100</td><td>0.36889203</td></tr>\n",
       "\t<tr><td> 200</td><td>0.26285102</td></tr>\n",
       "\t<tr><td> 300</td><td>0.21308227</td></tr>\n",
       "\t<tr><td> 400</td><td>0.18498278</td></tr>\n",
       "\t<tr><td> 500</td><td>0.16583158</td></tr>\n",
       "\t<tr><td> 600</td><td>0.15069018</td></tr>\n",
       "\t<tr><td> 700</td><td>0.13984877</td></tr>\n",
       "\t<tr><td> 800</td><td>0.13055913</td></tr>\n",
       "\t<tr><td> 900</td><td>0.12324581</td></tr>\n",
       "\t<tr><td>1000</td><td>0.11709251</td></tr>\n",
       "\t<tr><td>1100</td><td>0.11138855</td></tr>\n",
       "\t<tr><td>1200</td><td>0.10680188</td></tr>\n",
       "\t<tr><td>1300</td><td>0.10247942</td></tr>\n",
       "\t<tr><td>1400</td><td>0.09883093</td></tr>\n",
       "\t<tr><td>1500</td><td>0.09542839</td></tr>\n",
       "\t<tr><td>1600</td><td>0.09237325</td></tr>\n",
       "\t<tr><td>1700</td><td>0.08967144</td></tr>\n",
       "\t<tr><td>1800</td><td>0.08729473</td></tr>\n",
       "\t<tr><td>1900</td><td>0.08468346</td></tr>\n",
       "\t<tr><td>2000</td><td>0.08263945</td></tr>\n",
       "\t<tr><td>2100</td><td>0.08066379</td></tr>\n",
       "\t<tr><td>2200</td><td>0.07867320</td></tr>\n",
       "\t<tr><td>2300</td><td>0.07716697</td></tr>\n",
       "\t<tr><td>2400</td><td>0.07549852</td></tr>\n",
       "\t<tr><td>2500</td><td>0.07393379</td></tr>\n",
       "\t<tr><td>2600</td><td>0.07261079</td></tr>\n",
       "\t<tr><td>2700</td><td>0.07118582</td></tr>\n",
       "\t<tr><td>2800</td><td>0.06985915</td></tr>\n",
       "\t<tr><td>2900</td><td>0.06864633</td></tr>\n",
       "\t<tr><td>3000</td><td>0.06748927</td></tr>\n",
       "\t<tr><td>3100</td><td>0.06644543</td></tr>\n",
       "\t<tr><td>3200</td><td>0.06529603</td></tr>\n",
       "\t<tr><td>3300</td><td>0.06443076</td></tr>\n",
       "\t<tr><td>3400</td><td>0.06345878</td></tr>\n",
       "\t<tr><td>3500</td><td>0.06253301</td></tr>\n",
       "\t<tr><td>3600</td><td>0.06161253</td></tr>\n",
       "\t<tr><td>3700</td><td>0.06083936</td></tr>\n",
       "\t<tr><td>3800</td><td>0.05992400</td></tr>\n",
       "\t<tr><td>3900</td><td>0.05919865</td></tr>\n",
       "\t<tr><td>4000</td><td>0.05846899</td></tr>\n",
       "\t<tr><td>4100</td><td>0.05775589</td></tr>\n",
       "\t<tr><td>4200</td><td>0.05701436</td></tr>\n",
       "\t<tr><td>4300</td><td>0.05636809</td></tr>\n",
       "\t<tr><td>4400</td><td>0.05579037</td></tr>\n",
       "\t<tr><td>4500</td><td>0.05511374</td></tr>\n",
       "\t<tr><td>4600</td><td>0.05452881</td></tr>\n",
       "\t<tr><td>4700</td><td>0.05392504</td></tr>\n",
       "\t<tr><td>4800</td><td>0.05336555</td></tr>\n",
       "\t<tr><td>4900</td><td>0.05283763</td></tr>\n",
       "\t<tr><td>5000</td><td>0.05232120</td></tr>\n",
       "</tbody>\n",
       "</table>\n"
      ],
      "text/latex": [
       "A data.frame: 50 × 2\n",
       "\\begin{tabular}{ll}\n",
       " n & amplitude\\\\\n",
       " <dbl> & <dbl>\\\\\n",
       "\\hline\n",
       "\t  100 & 0.36889203\\\\\n",
       "\t  200 & 0.26285102\\\\\n",
       "\t  300 & 0.21308227\\\\\n",
       "\t  400 & 0.18498278\\\\\n",
       "\t  500 & 0.16583158\\\\\n",
       "\t  600 & 0.15069018\\\\\n",
       "\t  700 & 0.13984877\\\\\n",
       "\t  800 & 0.13055913\\\\\n",
       "\t  900 & 0.12324581\\\\\n",
       "\t 1000 & 0.11709251\\\\\n",
       "\t 1100 & 0.11138855\\\\\n",
       "\t 1200 & 0.10680188\\\\\n",
       "\t 1300 & 0.10247942\\\\\n",
       "\t 1400 & 0.09883093\\\\\n",
       "\t 1500 & 0.09542839\\\\\n",
       "\t 1600 & 0.09237325\\\\\n",
       "\t 1700 & 0.08967144\\\\\n",
       "\t 1800 & 0.08729473\\\\\n",
       "\t 1900 & 0.08468346\\\\\n",
       "\t 2000 & 0.08263945\\\\\n",
       "\t 2100 & 0.08066379\\\\\n",
       "\t 2200 & 0.07867320\\\\\n",
       "\t 2300 & 0.07716697\\\\\n",
       "\t 2400 & 0.07549852\\\\\n",
       "\t 2500 & 0.07393379\\\\\n",
       "\t 2600 & 0.07261079\\\\\n",
       "\t 2700 & 0.07118582\\\\\n",
       "\t 2800 & 0.06985915\\\\\n",
       "\t 2900 & 0.06864633\\\\\n",
       "\t 3000 & 0.06748927\\\\\n",
       "\t 3100 & 0.06644543\\\\\n",
       "\t 3200 & 0.06529603\\\\\n",
       "\t 3300 & 0.06443076\\\\\n",
       "\t 3400 & 0.06345878\\\\\n",
       "\t 3500 & 0.06253301\\\\\n",
       "\t 3600 & 0.06161253\\\\\n",
       "\t 3700 & 0.06083936\\\\\n",
       "\t 3800 & 0.05992400\\\\\n",
       "\t 3900 & 0.05919865\\\\\n",
       "\t 4000 & 0.05846899\\\\\n",
       "\t 4100 & 0.05775589\\\\\n",
       "\t 4200 & 0.05701436\\\\\n",
       "\t 4300 & 0.05636809\\\\\n",
       "\t 4400 & 0.05579037\\\\\n",
       "\t 4500 & 0.05511374\\\\\n",
       "\t 4600 & 0.05452881\\\\\n",
       "\t 4700 & 0.05392504\\\\\n",
       "\t 4800 & 0.05336555\\\\\n",
       "\t 4900 & 0.05283763\\\\\n",
       "\t 5000 & 0.05232120\\\\\n",
       "\\end{tabular}\n"
      ],
      "text/markdown": [
       "\n",
       "A data.frame: 50 × 2\n",
       "\n",
       "| n &lt;dbl&gt; | amplitude &lt;dbl&gt; |\n",
       "|---|---|\n",
       "|  100 | 0.36889203 |\n",
       "|  200 | 0.26285102 |\n",
       "|  300 | 0.21308227 |\n",
       "|  400 | 0.18498278 |\n",
       "|  500 | 0.16583158 |\n",
       "|  600 | 0.15069018 |\n",
       "|  700 | 0.13984877 |\n",
       "|  800 | 0.13055913 |\n",
       "|  900 | 0.12324581 |\n",
       "| 1000 | 0.11709251 |\n",
       "| 1100 | 0.11138855 |\n",
       "| 1200 | 0.10680188 |\n",
       "| 1300 | 0.10247942 |\n",
       "| 1400 | 0.09883093 |\n",
       "| 1500 | 0.09542839 |\n",
       "| 1600 | 0.09237325 |\n",
       "| 1700 | 0.08967144 |\n",
       "| 1800 | 0.08729473 |\n",
       "| 1900 | 0.08468346 |\n",
       "| 2000 | 0.08263945 |\n",
       "| 2100 | 0.08066379 |\n",
       "| 2200 | 0.07867320 |\n",
       "| 2300 | 0.07716697 |\n",
       "| 2400 | 0.07549852 |\n",
       "| 2500 | 0.07393379 |\n",
       "| 2600 | 0.07261079 |\n",
       "| 2700 | 0.07118582 |\n",
       "| 2800 | 0.06985915 |\n",
       "| 2900 | 0.06864633 |\n",
       "| 3000 | 0.06748927 |\n",
       "| 3100 | 0.06644543 |\n",
       "| 3200 | 0.06529603 |\n",
       "| 3300 | 0.06443076 |\n",
       "| 3400 | 0.06345878 |\n",
       "| 3500 | 0.06253301 |\n",
       "| 3600 | 0.06161253 |\n",
       "| 3700 | 0.06083936 |\n",
       "| 3800 | 0.05992400 |\n",
       "| 3900 | 0.05919865 |\n",
       "| 4000 | 0.05846899 |\n",
       "| 4100 | 0.05775589 |\n",
       "| 4200 | 0.05701436 |\n",
       "| 4300 | 0.05636809 |\n",
       "| 4400 | 0.05579037 |\n",
       "| 4500 | 0.05511374 |\n",
       "| 4600 | 0.05452881 |\n",
       "| 4700 | 0.05392504 |\n",
       "| 4800 | 0.05336555 |\n",
       "| 4900 | 0.05283763 |\n",
       "| 5000 | 0.05232120 |\n",
       "\n"
      ],
      "text/plain": [
       "   n    amplitude \n",
       "1   100 0.36889203\n",
       "2   200 0.26285102\n",
       "3   300 0.21308227\n",
       "4   400 0.18498278\n",
       "5   500 0.16583158\n",
       "6   600 0.15069018\n",
       "7   700 0.13984877\n",
       "8   800 0.13055913\n",
       "9   900 0.12324581\n",
       "10 1000 0.11709251\n",
       "11 1100 0.11138855\n",
       "12 1200 0.10680188\n",
       "13 1300 0.10247942\n",
       "14 1400 0.09883093\n",
       "15 1500 0.09542839\n",
       "16 1600 0.09237325\n",
       "17 1700 0.08967144\n",
       "18 1800 0.08729473\n",
       "19 1900 0.08468346\n",
       "20 2000 0.08263945\n",
       "21 2100 0.08066379\n",
       "22 2200 0.07867320\n",
       "23 2300 0.07716697\n",
       "24 2400 0.07549852\n",
       "25 2500 0.07393379\n",
       "26 2600 0.07261079\n",
       "27 2700 0.07118582\n",
       "28 2800 0.06985915\n",
       "29 2900 0.06864633\n",
       "30 3000 0.06748927\n",
       "31 3100 0.06644543\n",
       "32 3200 0.06529603\n",
       "33 3300 0.06443076\n",
       "34 3400 0.06345878\n",
       "35 3500 0.06253301\n",
       "36 3600 0.06161253\n",
       "37 3700 0.06083936\n",
       "38 3800 0.05992400\n",
       "39 3900 0.05919865\n",
       "40 4000 0.05846899\n",
       "41 4100 0.05775589\n",
       "42 4200 0.05701436\n",
       "43 4300 0.05636809\n",
       "44 4400 0.05579037\n",
       "45 4500 0.05511374\n",
       "46 4600 0.05452881\n",
       "47 4700 0.05392504\n",
       "48 4800 0.05336555\n",
       "49 4900 0.05283763\n",
       "50 5000 0.05232120"
      ]
     },
     "metadata": {},
     "output_type": "display_data"
    }
   ],
   "source": [
    "df <- data.frame()\n",
    "for (n in seq(from = 100, to = 5000, by = 100)) {\n",
    "  amplitude <- c()\n",
    "  for (i in 1:M) {\n",
    "    samples <- rexp(n, rate = LAMBDA)\n",
    "    conf_interval <- CI(samples, ci = CONF_LEVEL)\n",
    "    amplitude <- append(amplitude,\n",
    "      c(abs(conf_interval[[\"upper\"]] - conf_interval[[\"lower\"]])))\n",
    "  }\n",
    "  mean_amplitude <- mean(amplitude)\n",
    "\n",
    "  df <- rbind(df, data.frame(n = n, amplitude = mean_amplitude))\n",
    "}\n",
    "\n",
    "df"
   ]
  },
  {
   "cell_type": "code",
   "execution_count": 118,
   "metadata": {
    "vscode": {
     "languageId": "r"
    }
   },
   "outputs": [
    {
     "data": {
      "image/png": "[encoded data removed]",
      "text/plain": [
       "plot without title"
      ]
     },
     "metadata": {
      "image/png": {
       "height": 420,
       "width": 420
      }
     },
     "output_type": "display_data"
    }
   ],
   "source": [
    "ggplot(df, aes(x = n, y = amplitude)) +\n",
    "  geom_line(color = \"#fb8500\") +\n",
    "  geom_point(color = \"#fb8500\") +\n",
    "  xlab(\"Dimensão da Amostra\") +\n",
    "  ylab(\"Amplitude do Intervalo de Confiança\") +\n",
    "  labs(title = \"Relação entre Amplitude do Intervalo de Confiança e Dimensão da Amostra\",\n",
    "    subtitle = sprintf(\"semente = %d | m = %d | λ = %.2f | (1 - α) = %.2f\",\n",
    "      SEED, M, LAMBDA, CONF_LEVEL))"
   ]
  },
  {
   "cell_type": "markdown",
   "metadata": {},
   "source": [
    "Através do gráfico obtido, conseguimos concluir que quanto maior a dimensão da amostra\n",
    "menor será a amplitude do intervalo de confiança. A relação entre estas duas variáveis\n",
    "é logarítmica."
   ]
  }
 ],
 "metadata": {
  "kernelspec": {
   "display_name": "R",
   "language": "R",
   "name": "ir"
  },
  "language_info": {
   "codemirror_mode": "r",
   "file_extension": ".r",
   "mimetype": "text/x-r-source",
   "name": "R",
   "pygments_lexer": "r",
   "version": "4.2.0"
  },
  "orig_nbformat": 4
 },
 "nbformat": 4,
 "nbformat_minor": 2
}
