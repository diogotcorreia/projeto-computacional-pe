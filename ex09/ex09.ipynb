{
 "cells": [
  {
   "cell_type": "code",
   "execution_count": 15,
   "metadata": {
    "vscode": {
     "languageId": "r"
    }
   },
   "outputs": [],
   "source": [
    "library(\"ggplot2\")"
   ]
  },
  {
   "cell_type": "code",
   "execution_count": 16,
   "metadata": {
    "vscode": {
     "languageId": "r"
    }
   },
   "outputs": [],
   "source": [
    "SEED <- 992\n",
    "M <- 900\n",
    "LAMBDA <- 0.98\n",
    "CONF_LEVEL <- 0.93"
   ]
  },
  {
   "cell_type": "code",
   "execution_count": 17,
   "metadata": {
    "vscode": {
     "languageId": "r"
    }
   },
   "outputs": [],
   "source": [
    "set.seed(SEED)"
   ]
  },
  {
   "cell_type": "code",
   "execution_count": 18,
   "metadata": {
    "vscode": {
     "languageId": "r"
    }
   },
   "outputs": [],
   "source": [
    "conf_interval_amplitude <- function(samples, conf_level) {\n",
    "  len <- length(samples)\n",
    "  upper <- ((1 + qnorm(1 - (1 - conf_level) / 2) / sqrt(len)) / mean(samples))\n",
    "  lower <- ((1 - qnorm(1 - (1 - conf_level) / 2) / sqrt(len)) / mean(samples))\n",
    "  return(abs(upper - lower))\n",
    "}"
   ]
  },
  {
   "cell_type": "code",
   "execution_count": 19,
   "metadata": {
    "vscode": {
     "languageId": "r"
    }
   },
   "outputs": [
    {
     "data": {
      "text/html": [
       "<table class=\"dataframe\">\n",
       "<caption>A data.frame: 50 × 2</caption>\n",
       "<thead>\n",
       "\t<tr><th scope=col>n</th><th scope=col>amplitude</th></tr>\n",
       "\t<tr><th scope=col>&lt;dbl&gt;</th><th scope=col>&lt;dbl&gt;</th></tr>\n",
       "</thead>\n",
       "<tbody>\n",
       "\t<tr><td> 100</td><td>0.35952011</td></tr>\n",
       "\t<tr><td> 200</td><td>0.25220073</td></tr>\n",
       "\t<tr><td> 300</td><td>0.20647085</td></tr>\n",
       "\t<tr><td> 400</td><td>0.17806455</td></tr>\n",
       "\t<tr><td> 500</td><td>0.15887857</td></tr>\n",
       "\t<tr><td> 600</td><td>0.14523993</td></tr>\n",
       "\t<tr><td> 700</td><td>0.13428616</td></tr>\n",
       "\t<tr><td> 800</td><td>0.12565525</td></tr>\n",
       "\t<tr><td> 900</td><td>0.11861938</td></tr>\n",
       "\t<tr><td>1000</td><td>0.11222684</td></tr>\n",
       "\t<tr><td>1100</td><td>0.10714956</td></tr>\n",
       "\t<tr><td>1200</td><td>0.10259359</td></tr>\n",
       "\t<tr><td>1300</td><td>0.09857861</td></tr>\n",
       "\t<tr><td>1400</td><td>0.09499306</td></tr>\n",
       "\t<tr><td>1500</td><td>0.09187337</td></tr>\n",
       "\t<tr><td>1600</td><td>0.08893000</td></tr>\n",
       "\t<tr><td>1700</td><td>0.08619188</td></tr>\n",
       "\t<tr><td>1800</td><td>0.08362475</td></tr>\n",
       "\t<tr><td>1900</td><td>0.08165667</td></tr>\n",
       "\t<tr><td>2000</td><td>0.07947454</td></tr>\n",
       "\t<tr><td>2100</td><td>0.07751754</td></tr>\n",
       "\t<tr><td>2200</td><td>0.07585386</td></tr>\n",
       "\t<tr><td>2300</td><td>0.07407239</td></tr>\n",
       "\t<tr><td>2400</td><td>0.07253381</td></tr>\n",
       "\t<tr><td>2500</td><td>0.07109780</td></tr>\n",
       "\t<tr><td>2600</td><td>0.06960623</td></tr>\n",
       "\t<tr><td>2700</td><td>0.06839325</td></tr>\n",
       "\t<tr><td>2800</td><td>0.06712567</td></tr>\n",
       "\t<tr><td>2900</td><td>0.06599130</td></tr>\n",
       "\t<tr><td>3000</td><td>0.06486660</td></tr>\n",
       "\t<tr><td>3100</td><td>0.06377877</td></tr>\n",
       "\t<tr><td>3200</td><td>0.06283737</td></tr>\n",
       "\t<tr><td>3300</td><td>0.06179681</td></tr>\n",
       "\t<tr><td>3400</td><td>0.06091745</td></tr>\n",
       "\t<tr><td>3500</td><td>0.06008101</td></tr>\n",
       "\t<tr><td>3600</td><td>0.05921480</td></tr>\n",
       "\t<tr><td>3700</td><td>0.05835035</td></tr>\n",
       "\t<tr><td>3800</td><td>0.05765600</td></tr>\n",
       "\t<tr><td>3900</td><td>0.05686707</td></tr>\n",
       "\t<tr><td>4000</td><td>0.05620183</td></tr>\n",
       "\t<tr><td>4100</td><td>0.05547973</td></tr>\n",
       "\t<tr><td>4200</td><td>0.05479923</td></tr>\n",
       "\t<tr><td>4300</td><td>0.05417721</td></tr>\n",
       "\t<tr><td>4400</td><td>0.05353032</td></tr>\n",
       "\t<tr><td>4500</td><td>0.05298571</td></tr>\n",
       "\t<tr><td>4600</td><td>0.05235984</td></tr>\n",
       "\t<tr><td>4700</td><td>0.05181908</td></tr>\n",
       "\t<tr><td>4800</td><td>0.05124370</td></tr>\n",
       "\t<tr><td>4900</td><td>0.05072535</td></tr>\n",
       "\t<tr><td>5000</td><td>0.05023126</td></tr>\n",
       "</tbody>\n",
       "</table>\n"
      ],
      "text/latex": [
       "A data.frame: 50 × 2\n",
       "\\begin{tabular}{ll}\n",
       " n & amplitude\\\\\n",
       " <dbl> & <dbl>\\\\\n",
       "\\hline\n",
       "\t  100 & 0.35952011\\\\\n",
       "\t  200 & 0.25220073\\\\\n",
       "\t  300 & 0.20647085\\\\\n",
       "\t  400 & 0.17806455\\\\\n",
       "\t  500 & 0.15887857\\\\\n",
       "\t  600 & 0.14523993\\\\\n",
       "\t  700 & 0.13428616\\\\\n",
       "\t  800 & 0.12565525\\\\\n",
       "\t  900 & 0.11861938\\\\\n",
       "\t 1000 & 0.11222684\\\\\n",
       "\t 1100 & 0.10714956\\\\\n",
       "\t 1200 & 0.10259359\\\\\n",
       "\t 1300 & 0.09857861\\\\\n",
       "\t 1400 & 0.09499306\\\\\n",
       "\t 1500 & 0.09187337\\\\\n",
       "\t 1600 & 0.08893000\\\\\n",
       "\t 1700 & 0.08619188\\\\\n",
       "\t 1800 & 0.08362475\\\\\n",
       "\t 1900 & 0.08165667\\\\\n",
       "\t 2000 & 0.07947454\\\\\n",
       "\t 2100 & 0.07751754\\\\\n",
       "\t 2200 & 0.07585386\\\\\n",
       "\t 2300 & 0.07407239\\\\\n",
       "\t 2400 & 0.07253381\\\\\n",
       "\t 2500 & 0.07109780\\\\\n",
       "\t 2600 & 0.06960623\\\\\n",
       "\t 2700 & 0.06839325\\\\\n",
       "\t 2800 & 0.06712567\\\\\n",
       "\t 2900 & 0.06599130\\\\\n",
       "\t 3000 & 0.06486660\\\\\n",
       "\t 3100 & 0.06377877\\\\\n",
       "\t 3200 & 0.06283737\\\\\n",
       "\t 3300 & 0.06179681\\\\\n",
       "\t 3400 & 0.06091745\\\\\n",
       "\t 3500 & 0.06008101\\\\\n",
       "\t 3600 & 0.05921480\\\\\n",
       "\t 3700 & 0.05835035\\\\\n",
       "\t 3800 & 0.05765600\\\\\n",
       "\t 3900 & 0.05686707\\\\\n",
       "\t 4000 & 0.05620183\\\\\n",
       "\t 4100 & 0.05547973\\\\\n",
       "\t 4200 & 0.05479923\\\\\n",
       "\t 4300 & 0.05417721\\\\\n",
       "\t 4400 & 0.05353032\\\\\n",
       "\t 4500 & 0.05298571\\\\\n",
       "\t 4600 & 0.05235984\\\\\n",
       "\t 4700 & 0.05181908\\\\\n",
       "\t 4800 & 0.05124370\\\\\n",
       "\t 4900 & 0.05072535\\\\\n",
       "\t 5000 & 0.05023126\\\\\n",
       "\\end{tabular}\n"
      ],
      "text/markdown": [
       "\n",
       "A data.frame: 50 × 2\n",
       "\n",
       "| n &lt;dbl&gt; | amplitude &lt;dbl&gt; |\n",
       "|---|---|\n",
       "|  100 | 0.35952011 |\n",
       "|  200 | 0.25220073 |\n",
       "|  300 | 0.20647085 |\n",
       "|  400 | 0.17806455 |\n",
       "|  500 | 0.15887857 |\n",
       "|  600 | 0.14523993 |\n",
       "|  700 | 0.13428616 |\n",
       "|  800 | 0.12565525 |\n",
       "|  900 | 0.11861938 |\n",
       "| 1000 | 0.11222684 |\n",
       "| 1100 | 0.10714956 |\n",
       "| 1200 | 0.10259359 |\n",
       "| 1300 | 0.09857861 |\n",
       "| 1400 | 0.09499306 |\n",
       "| 1500 | 0.09187337 |\n",
       "| 1600 | 0.08893000 |\n",
       "| 1700 | 0.08619188 |\n",
       "| 1800 | 0.08362475 |\n",
       "| 1900 | 0.08165667 |\n",
       "| 2000 | 0.07947454 |\n",
       "| 2100 | 0.07751754 |\n",
       "| 2200 | 0.07585386 |\n",
       "| 2300 | 0.07407239 |\n",
       "| 2400 | 0.07253381 |\n",
       "| 2500 | 0.07109780 |\n",
       "| 2600 | 0.06960623 |\n",
       "| 2700 | 0.06839325 |\n",
       "| 2800 | 0.06712567 |\n",
       "| 2900 | 0.06599130 |\n",
       "| 3000 | 0.06486660 |\n",
       "| 3100 | 0.06377877 |\n",
       "| 3200 | 0.06283737 |\n",
       "| 3300 | 0.06179681 |\n",
       "| 3400 | 0.06091745 |\n",
       "| 3500 | 0.06008101 |\n",
       "| 3600 | 0.05921480 |\n",
       "| 3700 | 0.05835035 |\n",
       "| 3800 | 0.05765600 |\n",
       "| 3900 | 0.05686707 |\n",
       "| 4000 | 0.05620183 |\n",
       "| 4100 | 0.05547973 |\n",
       "| 4200 | 0.05479923 |\n",
       "| 4300 | 0.05417721 |\n",
       "| 4400 | 0.05353032 |\n",
       "| 4500 | 0.05298571 |\n",
       "| 4600 | 0.05235984 |\n",
       "| 4700 | 0.05181908 |\n",
       "| 4800 | 0.05124370 |\n",
       "| 4900 | 0.05072535 |\n",
       "| 5000 | 0.05023126 |\n",
       "\n"
      ],
      "text/plain": [
       "   n    amplitude \n",
       "1   100 0.35952011\n",
       "2   200 0.25220073\n",
       "3   300 0.20647085\n",
       "4   400 0.17806455\n",
       "5   500 0.15887857\n",
       "6   600 0.14523993\n",
       "7   700 0.13428616\n",
       "8   800 0.12565525\n",
       "9   900 0.11861938\n",
       "10 1000 0.11222684\n",
       "11 1100 0.10714956\n",
       "12 1200 0.10259359\n",
       "13 1300 0.09857861\n",
       "14 1400 0.09499306\n",
       "15 1500 0.09187337\n",
       "16 1600 0.08893000\n",
       "17 1700 0.08619188\n",
       "18 1800 0.08362475\n",
       "19 1900 0.08165667\n",
       "20 2000 0.07947454\n",
       "21 2100 0.07751754\n",
       "22 2200 0.07585386\n",
       "23 2300 0.07407239\n",
       "24 2400 0.07253381\n",
       "25 2500 0.07109780\n",
       "26 2600 0.06960623\n",
       "27 2700 0.06839325\n",
       "28 2800 0.06712567\n",
       "29 2900 0.06599130\n",
       "30 3000 0.06486660\n",
       "31 3100 0.06377877\n",
       "32 3200 0.06283737\n",
       "33 3300 0.06179681\n",
       "34 3400 0.06091745\n",
       "35 3500 0.06008101\n",
       "36 3600 0.05921480\n",
       "37 3700 0.05835035\n",
       "38 3800 0.05765600\n",
       "39 3900 0.05686707\n",
       "40 4000 0.05620183\n",
       "41 4100 0.05547973\n",
       "42 4200 0.05479923\n",
       "43 4300 0.05417721\n",
       "44 4400 0.05353032\n",
       "45 4500 0.05298571\n",
       "46 4600 0.05235984\n",
       "47 4700 0.05181908\n",
       "48 4800 0.05124370\n",
       "49 4900 0.05072535\n",
       "50 5000 0.05023126"
      ]
     },
     "metadata": {},
     "output_type": "display_data"
    }
   ],
   "source": [
    "df <- data.frame()\n",
    "for (n in seq(from = 100, to = 5000, by = 100)) {\n",
    "  amplitude <- c()\n",
    "  for (i in 1:M) {\n",
    "    samples <- rexp(n, rate = LAMBDA)\n",
    "    new_amplitude <- conf_interval_amplitude(samples, CONF_LEVEL)\n",
    "    amplitude <- append(amplitude, new_amplitude)\n",
    "  }\n",
    "  mean_amplitude <- mean(amplitude)\n",
    "\n",
    "  df <- rbind(df, data.frame(n = n, amplitude = mean_amplitude))\n",
    "}\n",
    "\n",
    "df"
   ]
  },
  {
   "cell_type": "code",
   "execution_count": 20,
   "metadata": {
    "vscode": {
     "languageId": "r"
    }
   },
   "outputs": [
    {
     "data": {
      "image/png": "[encoded data removed]",
      "text/plain": [
       "plot without title"
      ]
     },
     "metadata": {
      "image/png": {
       "height": 420,
       "width": 420
      }
     },
     "output_type": "display_data"
    }
   ],
   "source": [
    "ggplot(df, aes(x = n, y = amplitude)) +\n",
    "  geom_line(color = \"#fb8500\") +\n",
    "  geom_point(color = \"#fb8500\") +\n",
    "  xlab(\"Dimensão da Amostra\") +\n",
    "  ylab(\"Amplitude do Intervalo de Confiança\") +\n",
    "  labs(title = \"Relação entre Amplitude do Intervalo de Confiança e Dimensão da Amostra\",\n",
    "    subtitle = sprintf(\"semente = %d | m = %d | λ = %.2f | (1 - α) = %.2f\",\n",
    "      SEED, M, LAMBDA, CONF_LEVEL))"
   ]
  },
  {
   "cell_type": "code",
   "execution_count": 21,
   "metadata": {
    "vscode": {
     "languageId": "r"
    }
   },
   "outputs": [],
   "source": [
    "ggsave(\"output.svg\", width = 20, height = 14.5, units = \"cm\")"
   ]
  },
  {
   "cell_type": "markdown",
   "metadata": {},
   "source": [
    "Através do gráfico obtido, conseguimos concluir que quanto maior a dimensão da amostra\n",
    "menor será a amplitude do intervalo de confiança. A relação entre estas duas variáveis\n",
    "é inversamente proporcional."
   ]
  }
 ],
 "metadata": {
  "kernelspec": {
   "display_name": "R",
   "language": "R",
   "name": "ir"
  },
  "language_info": {
   "codemirror_mode": "r",
   "file_extension": ".r",
   "mimetype": "text/x-r-source",
   "name": "R",
   "pygments_lexer": "r",
   "version": "4.2.0"
  },
  "orig_nbformat": 4
 },
 "nbformat": 4,
 "nbformat_minor": 2
}
