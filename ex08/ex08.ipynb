{
 "cells": [
  {
   "cell_type": "code",
   "execution_count": 29,
   "metadata": {
    "vscode": {
     "languageId": "r"
    }
   },
   "outputs": [],
   "source": [
    "SEED <- 44\n",
    "M <- 1450\n",
    "N <- 917\n",
    "LAMBDA <- 2.23\n",
    "CONF_LEVEL <- 0.98"
   ]
  },
  {
   "cell_type": "code",
   "execution_count": 30,
   "metadata": {
    "vscode": {
     "languageId": "r"
    }
   },
   "outputs": [],
   "source": [
    "set.seed(SEED)"
   ]
  },
  {
   "cell_type": "code",
   "execution_count": 31,
   "metadata": {
    "vscode": {
     "languageId": "r"
    }
   },
   "outputs": [],
   "source": [
    "conf_interval_amplitude <- function(samples, conf_level) {\n",
    "  len <- length(samples)\n",
    "  upper <- ((1 + qnorm(1 - (1 - conf_level) / 2) / sqrt(len)) / mean(samples))\n",
    "  lower <- ((1 - qnorm(1 - (1 - conf_level) / 2) / sqrt(len)) / mean(samples))\n",
    "  return(abs(upper - lower))\n",
    "}"
   ]
  },
  {
   "cell_type": "code",
   "execution_count": 32,
   "metadata": {
    "vscode": {
     "languageId": "r"
    }
   },
   "outputs": [
    {
     "data": {
      "text/html": [
       "0.343219040065839"
      ],
      "text/latex": [
       "0.343219040065839"
      ],
      "text/markdown": [
       "0.343219040065839"
      ],
      "text/plain": [
       "[1] 0.343219"
      ]
     },
     "metadata": {},
     "output_type": "display_data"
    }
   ],
   "source": [
    "amplitude <- c()\n",
    "for (i in 1:M) {\n",
    "  samples <- rexp(N, rate = LAMBDA)\n",
    "  new_amplitude <- conf_interval_amplitude(samples, CONF_LEVEL)\n",
    "  amplitude <- append(amplitude, new_amplitude)\n",
    "}\n",
    "mean(amplitude)"
   ]
  }
 ],
 "metadata": {
  "kernelspec": {
   "display_name": "R",
   "language": "R",
   "name": "ir"
  },
  "language_info": {
   "codemirror_mode": "r",
   "file_extension": ".r",
   "mimetype": "text/x-r-source",
   "name": "R",
   "pygments_lexer": "r",
   "version": "4.2.0"
  },
  "orig_nbformat": 4
 },
 "nbformat": 4,
 "nbformat_minor": 2
}
