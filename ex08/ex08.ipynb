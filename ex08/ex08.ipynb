{
 "cells": [
  {
   "cell_type": "code",
   "execution_count": 74,
   "metadata": {
    "vscode": {
     "languageId": "r"
    }
   },
   "outputs": [],
   "source": [
    "library(\"Rmisc\")"
   ]
  },
  {
   "cell_type": "code",
   "execution_count": 75,
   "metadata": {
    "vscode": {
     "languageId": "r"
    }
   },
   "outputs": [],
   "source": [
    "SEED <- 44\n",
    "M <- 1450\n",
    "N <- 917\n",
    "LAMBDA <- 2.23\n",
    "CONF_LEVEL <- 0.98"
   ]
  },
  {
   "cell_type": "code",
   "execution_count": 76,
   "metadata": {
    "vscode": {
     "languageId": "r"
    }
   },
   "outputs": [],
   "source": [
    "set.seed(SEED)"
   ]
  },
  {
   "cell_type": "code",
   "execution_count": 77,
   "metadata": {
    "vscode": {
     "languageId": "r"
    }
   },
   "outputs": [
    {
     "data": {
      "text/html": [
       "0.0689243879052777"
      ],
      "text/latex": [
       "0.0689243879052777"
      ],
      "text/markdown": [
       "0.0689243879052777"
      ],
      "text/plain": [
       "[1] 0.06892439"
      ]
     },
     "metadata": {},
     "output_type": "display_data"
    }
   ],
   "source": [
    "amplitude <- c()\n",
    "for (i in 1:M) {\n",
    "  samples <- rexp(N, rate = LAMBDA)\n",
    "  conf_interval <- CI(samples, ci = CONF_LEVEL)\n",
    "  amplitude <- append(amplitude,\n",
    "    c(abs(conf_interval[[\"upper\"]] - conf_interval[[\"lower\"]])))\n",
    "}\n",
    "mean(amplitude)"
   ]
  }
 ],
 "metadata": {
  "kernelspec": {
   "display_name": "R",
   "language": "R",
   "name": "ir"
  },
  "language_info": {
   "codemirror_mode": "r",
   "file_extension": ".r",
   "mimetype": "text/x-r-source",
   "name": "R",
   "pygments_lexer": "r",
   "version": "4.2.0"
  },
  "orig_nbformat": 4
 },
 "nbformat": 4,
 "nbformat_minor": 2
}
