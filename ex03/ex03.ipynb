{
 "cells": [
  {
   "cell_type": "code",
   "execution_count": 58,
   "metadata": {
    "vscode": {
     "languageId": "r"
    }
   },
   "outputs": [],
   "source": [
    "library(\"openxlsx\")\n",
    "library(\"dplyr\")\n",
    "library(\"tidyr\")\n",
    "library(\"ggplot2\")"
   ]
  },
  {
   "cell_type": "code",
   "execution_count": 59,
   "metadata": {
    "vscode": {
     "languageId": "r"
    }
   },
   "outputs": [
    {
     "data": {
      "text/html": [
       "<table class=\"dataframe\">\n",
       "<caption>A tibble: 17568 × 2</caption>\n",
       "<thead>\n",
       "\t<tr><th scope=col>station</th><th scope=col>o3_level</th></tr>\n",
       "\t<tr><th scope=col>&lt;chr&gt;</th><th scope=col>&lt;dbl&gt;</th></tr>\n",
       "</thead>\n",
       "<tbody>\n",
       "\t<tr><td>Restelo        </td><td> 1</td></tr>\n",
       "\t<tr><td>Sobreiras-Porto</td><td>22</td></tr>\n",
       "\t<tr><td>Restelo        </td><td> 7</td></tr>\n",
       "\t<tr><td>Sobreiras-Porto</td><td>22</td></tr>\n",
       "\t<tr><td>Restelo        </td><td>32</td></tr>\n",
       "\t<tr><td>Sobreiras-Porto</td><td>23</td></tr>\n",
       "\t<tr><td>Restelo        </td><td>28</td></tr>\n",
       "\t<tr><td>Sobreiras-Porto</td><td>21</td></tr>\n",
       "\t<tr><td>Restelo        </td><td>16</td></tr>\n",
       "\t<tr><td>Sobreiras-Porto</td><td>20</td></tr>\n",
       "\t<tr><td>Restelo        </td><td> 9</td></tr>\n",
       "\t<tr><td>Sobreiras-Porto</td><td>24</td></tr>\n",
       "\t<tr><td>Restelo        </td><td> 4</td></tr>\n",
       "\t<tr><td>Sobreiras-Porto</td><td>28</td></tr>\n",
       "\t<tr><td>Restelo        </td><td> 9</td></tr>\n",
       "\t<tr><td>Sobreiras-Porto</td><td>28</td></tr>\n",
       "\t<tr><td>Restelo        </td><td>10</td></tr>\n",
       "\t<tr><td>Sobreiras-Porto</td><td>29</td></tr>\n",
       "\t<tr><td>Restelo        </td><td>14</td></tr>\n",
       "\t<tr><td>Sobreiras-Porto</td><td>32</td></tr>\n",
       "\t<tr><td>Restelo        </td><td>22</td></tr>\n",
       "\t<tr><td>Sobreiras-Porto</td><td>41</td></tr>\n",
       "\t<tr><td>Restelo        </td><td>26</td></tr>\n",
       "\t<tr><td>Sobreiras-Porto</td><td>41</td></tr>\n",
       "\t<tr><td>Restelo        </td><td>21</td></tr>\n",
       "\t<tr><td>Sobreiras-Porto</td><td>42</td></tr>\n",
       "\t<tr><td>Restelo        </td><td>20</td></tr>\n",
       "\t<tr><td>Sobreiras-Porto</td><td>50</td></tr>\n",
       "\t<tr><td>Restelo        </td><td>23</td></tr>\n",
       "\t<tr><td>Sobreiras-Porto</td><td>74</td></tr>\n",
       "\t<tr><td>⋮</td><td>⋮</td></tr>\n",
       "\t<tr><td>Restelo        </td><td>38</td></tr>\n",
       "\t<tr><td>Sobreiras-Porto</td><td>69</td></tr>\n",
       "\t<tr><td>Restelo        </td><td>46</td></tr>\n",
       "\t<tr><td>Sobreiras-Porto</td><td>62</td></tr>\n",
       "\t<tr><td>Restelo        </td><td>61</td></tr>\n",
       "\t<tr><td>Sobreiras-Porto</td><td>58</td></tr>\n",
       "\t<tr><td>Restelo        </td><td>71</td></tr>\n",
       "\t<tr><td>Sobreiras-Porto</td><td>61</td></tr>\n",
       "\t<tr><td>Restelo        </td><td>73</td></tr>\n",
       "\t<tr><td>Sobreiras-Porto</td><td>63</td></tr>\n",
       "\t<tr><td>Restelo        </td><td>70</td></tr>\n",
       "\t<tr><td>Sobreiras-Porto</td><td>63</td></tr>\n",
       "\t<tr><td>Restelo        </td><td>64</td></tr>\n",
       "\t<tr><td>Sobreiras-Porto</td><td>71</td></tr>\n",
       "\t<tr><td>Restelo        </td><td>63</td></tr>\n",
       "\t<tr><td>Sobreiras-Porto</td><td>64</td></tr>\n",
       "\t<tr><td>Restelo        </td><td>59</td></tr>\n",
       "\t<tr><td>Sobreiras-Porto</td><td>64</td></tr>\n",
       "\t<tr><td>Restelo        </td><td>56</td></tr>\n",
       "\t<tr><td>Sobreiras-Porto</td><td>60</td></tr>\n",
       "\t<tr><td>Restelo        </td><td>64</td></tr>\n",
       "\t<tr><td>Sobreiras-Porto</td><td>55</td></tr>\n",
       "\t<tr><td>Restelo        </td><td>70</td></tr>\n",
       "\t<tr><td>Sobreiras-Porto</td><td>53</td></tr>\n",
       "\t<tr><td>Restelo        </td><td>74</td></tr>\n",
       "\t<tr><td>Sobreiras-Porto</td><td>58</td></tr>\n",
       "\t<tr><td>Restelo        </td><td>69</td></tr>\n",
       "\t<tr><td>Sobreiras-Porto</td><td>54</td></tr>\n",
       "\t<tr><td>Restelo        </td><td>66</td></tr>\n",
       "\t<tr><td>Sobreiras-Porto</td><td>47</td></tr>\n",
       "</tbody>\n",
       "</table>\n"
      ],
      "text/latex": [
       "A tibble: 17568 × 2\n",
       "\\begin{tabular}{ll}\n",
       " station & o3\\_level\\\\\n",
       " <chr> & <dbl>\\\\\n",
       "\\hline\n",
       "\t Restelo         &  1\\\\\n",
       "\t Sobreiras-Porto & 22\\\\\n",
       "\t Restelo         &  7\\\\\n",
       "\t Sobreiras-Porto & 22\\\\\n",
       "\t Restelo         & 32\\\\\n",
       "\t Sobreiras-Porto & 23\\\\\n",
       "\t Restelo         & 28\\\\\n",
       "\t Sobreiras-Porto & 21\\\\\n",
       "\t Restelo         & 16\\\\\n",
       "\t Sobreiras-Porto & 20\\\\\n",
       "\t Restelo         &  9\\\\\n",
       "\t Sobreiras-Porto & 24\\\\\n",
       "\t Restelo         &  4\\\\\n",
       "\t Sobreiras-Porto & 28\\\\\n",
       "\t Restelo         &  9\\\\\n",
       "\t Sobreiras-Porto & 28\\\\\n",
       "\t Restelo         & 10\\\\\n",
       "\t Sobreiras-Porto & 29\\\\\n",
       "\t Restelo         & 14\\\\\n",
       "\t Sobreiras-Porto & 32\\\\\n",
       "\t Restelo         & 22\\\\\n",
       "\t Sobreiras-Porto & 41\\\\\n",
       "\t Restelo         & 26\\\\\n",
       "\t Sobreiras-Porto & 41\\\\\n",
       "\t Restelo         & 21\\\\\n",
       "\t Sobreiras-Porto & 42\\\\\n",
       "\t Restelo         & 20\\\\\n",
       "\t Sobreiras-Porto & 50\\\\\n",
       "\t Restelo         & 23\\\\\n",
       "\t Sobreiras-Porto & 74\\\\\n",
       "\t ⋮ & ⋮\\\\\n",
       "\t Restelo         & 38\\\\\n",
       "\t Sobreiras-Porto & 69\\\\\n",
       "\t Restelo         & 46\\\\\n",
       "\t Sobreiras-Porto & 62\\\\\n",
       "\t Restelo         & 61\\\\\n",
       "\t Sobreiras-Porto & 58\\\\\n",
       "\t Restelo         & 71\\\\\n",
       "\t Sobreiras-Porto & 61\\\\\n",
       "\t Restelo         & 73\\\\\n",
       "\t Sobreiras-Porto & 63\\\\\n",
       "\t Restelo         & 70\\\\\n",
       "\t Sobreiras-Porto & 63\\\\\n",
       "\t Restelo         & 64\\\\\n",
       "\t Sobreiras-Porto & 71\\\\\n",
       "\t Restelo         & 63\\\\\n",
       "\t Sobreiras-Porto & 64\\\\\n",
       "\t Restelo         & 59\\\\\n",
       "\t Sobreiras-Porto & 64\\\\\n",
       "\t Restelo         & 56\\\\\n",
       "\t Sobreiras-Porto & 60\\\\\n",
       "\t Restelo         & 64\\\\\n",
       "\t Sobreiras-Porto & 55\\\\\n",
       "\t Restelo         & 70\\\\\n",
       "\t Sobreiras-Porto & 53\\\\\n",
       "\t Restelo         & 74\\\\\n",
       "\t Sobreiras-Porto & 58\\\\\n",
       "\t Restelo         & 69\\\\\n",
       "\t Sobreiras-Porto & 54\\\\\n",
       "\t Restelo         & 66\\\\\n",
       "\t Sobreiras-Porto & 47\\\\\n",
       "\\end{tabular}\n"
      ],
      "text/markdown": [
       "\n",
       "A tibble: 17568 × 2\n",
       "\n",
       "| station &lt;chr&gt; | o3_level &lt;dbl&gt; |\n",
       "|---|---|\n",
       "| Restelo         |  1 |\n",
       "| Sobreiras-Porto | 22 |\n",
       "| Restelo         |  7 |\n",
       "| Sobreiras-Porto | 22 |\n",
       "| Restelo         | 32 |\n",
       "| Sobreiras-Porto | 23 |\n",
       "| Restelo         | 28 |\n",
       "| Sobreiras-Porto | 21 |\n",
       "| Restelo         | 16 |\n",
       "| Sobreiras-Porto | 20 |\n",
       "| Restelo         |  9 |\n",
       "| Sobreiras-Porto | 24 |\n",
       "| Restelo         |  4 |\n",
       "| Sobreiras-Porto | 28 |\n",
       "| Restelo         |  9 |\n",
       "| Sobreiras-Porto | 28 |\n",
       "| Restelo         | 10 |\n",
       "| Sobreiras-Porto | 29 |\n",
       "| Restelo         | 14 |\n",
       "| Sobreiras-Porto | 32 |\n",
       "| Restelo         | 22 |\n",
       "| Sobreiras-Porto | 41 |\n",
       "| Restelo         | 26 |\n",
       "| Sobreiras-Porto | 41 |\n",
       "| Restelo         | 21 |\n",
       "| Sobreiras-Porto | 42 |\n",
       "| Restelo         | 20 |\n",
       "| Sobreiras-Porto | 50 |\n",
       "| Restelo         | 23 |\n",
       "| Sobreiras-Porto | 74 |\n",
       "| ⋮ | ⋮ |\n",
       "| Restelo         | 38 |\n",
       "| Sobreiras-Porto | 69 |\n",
       "| Restelo         | 46 |\n",
       "| Sobreiras-Porto | 62 |\n",
       "| Restelo         | 61 |\n",
       "| Sobreiras-Porto | 58 |\n",
       "| Restelo         | 71 |\n",
       "| Sobreiras-Porto | 61 |\n",
       "| Restelo         | 73 |\n",
       "| Sobreiras-Porto | 63 |\n",
       "| Restelo         | 70 |\n",
       "| Sobreiras-Porto | 63 |\n",
       "| Restelo         | 64 |\n",
       "| Sobreiras-Porto | 71 |\n",
       "| Restelo         | 63 |\n",
       "| Sobreiras-Porto | 64 |\n",
       "| Restelo         | 59 |\n",
       "| Sobreiras-Porto | 64 |\n",
       "| Restelo         | 56 |\n",
       "| Sobreiras-Porto | 60 |\n",
       "| Restelo         | 64 |\n",
       "| Sobreiras-Porto | 55 |\n",
       "| Restelo         | 70 |\n",
       "| Sobreiras-Porto | 53 |\n",
       "| Restelo         | 74 |\n",
       "| Sobreiras-Porto | 58 |\n",
       "| Restelo         | 69 |\n",
       "| Sobreiras-Porto | 54 |\n",
       "| Restelo         | 66 |\n",
       "| Sobreiras-Porto | 47 |\n",
       "\n"
      ],
      "text/plain": [
       "      station         o3_level\n",
       "1     Restelo          1      \n",
       "2     Sobreiras-Porto 22      \n",
       "3     Restelo          7      \n",
       "4     Sobreiras-Porto 22      \n",
       "5     Restelo         32      \n",
       "6     Sobreiras-Porto 23      \n",
       "7     Restelo         28      \n",
       "8     Sobreiras-Porto 21      \n",
       "9     Restelo         16      \n",
       "10    Sobreiras-Porto 20      \n",
       "11    Restelo          9      \n",
       "12    Sobreiras-Porto 24      \n",
       "13    Restelo          4      \n",
       "14    Sobreiras-Porto 28      \n",
       "15    Restelo          9      \n",
       "16    Sobreiras-Porto 28      \n",
       "17    Restelo         10      \n",
       "18    Sobreiras-Porto 29      \n",
       "19    Restelo         14      \n",
       "20    Sobreiras-Porto 32      \n",
       "21    Restelo         22      \n",
       "22    Sobreiras-Porto 41      \n",
       "23    Restelo         26      \n",
       "24    Sobreiras-Porto 41      \n",
       "25    Restelo         21      \n",
       "26    Sobreiras-Porto 42      \n",
       "27    Restelo         20      \n",
       "28    Sobreiras-Porto 50      \n",
       "29    Restelo         23      \n",
       "30    Sobreiras-Porto 74      \n",
       "⋮     ⋮               ⋮       \n",
       "17539 Restelo         38      \n",
       "17540 Sobreiras-Porto 69      \n",
       "17541 Restelo         46      \n",
       "17542 Sobreiras-Porto 62      \n",
       "17543 Restelo         61      \n",
       "17544 Sobreiras-Porto 58      \n",
       "17545 Restelo         71      \n",
       "17546 Sobreiras-Porto 61      \n",
       "17547 Restelo         73      \n",
       "17548 Sobreiras-Porto 63      \n",
       "17549 Restelo         70      \n",
       "17550 Sobreiras-Porto 63      \n",
       "17551 Restelo         64      \n",
       "17552 Sobreiras-Porto 71      \n",
       "17553 Restelo         63      \n",
       "17554 Sobreiras-Porto 64      \n",
       "17555 Restelo         59      \n",
       "17556 Sobreiras-Porto 64      \n",
       "17557 Restelo         56      \n",
       "17558 Sobreiras-Porto 60      \n",
       "17559 Restelo         64      \n",
       "17560 Sobreiras-Porto 55      \n",
       "17561 Restelo         70      \n",
       "17562 Sobreiras-Porto 53      \n",
       "17563 Restelo         74      \n",
       "17564 Sobreiras-Porto 58      \n",
       "17565 Restelo         69      \n",
       "17566 Sobreiras-Porto 54      \n",
       "17567 Restelo         66      \n",
       "17568 Sobreiras-Porto 47      "
      ]
     },
     "metadata": {},
     "output_type": "display_data"
    }
   ],
   "source": [
    "df <- read.xlsx(xlsxFile = \"QualidadeARO3.xlsx\", sheet = 1) %>%\n",
    "  type.convert(as.is = TRUE) %>%\n",
    "  pivot_longer(names(.), names_to = \"station\", values_to = \"o3_level\") %>%\n",
    "  filter(station %in% c(\"Sobreiras-Porto\", \"Restelo\"))\n",
    "df"
   ]
  },
  {
   "cell_type": "code",
   "execution_count": 62,
   "metadata": {
    "vscode": {
     "languageId": "r"
    }
   },
   "outputs": [
    {
     "name": "stderr",
     "output_type": "stream",
     "text": [
      "`stat_bin()` using `bins = 30`. Pick better value with `binwidth`.\n",
      "\n"
     ]
    },
    {
     "data": {
      "image/png": "[encoded data removed]",
      "text/plain": [
       "plot without title"
      ]
     },
     "metadata": {
      "image/png": {
       "height": 420,
       "width": 420
      }
     },
     "output_type": "display_data"
    }
   ],
   "source": [
    "df %>%\n",
    "  ggplot(aes(x = o3_level, fill = station)) +\n",
    "  geom_histogram(position = \"identity\", colour = \"black\", alpha = 0.5) +\n",
    "  scale_fill_brewer(palette = \"Dark2\") +\n",
    "  xlab(\"Densidade de Ozono (µg/m³)\") +\n",
    "  ylab(\"Número de Leituras\") +\n",
    "  labs(fill = \"Estação da Rede QUALAR\", subtitle = \"no Restelo e em Sobreiras-Porto\") +\n",
    "  ggtitle(\"Observações Horárias dos Níveis de Ozono (O3), em 2020,\")"
   ]
  },
  {
   "cell_type": "code",
   "execution_count": 63,
   "metadata": {
    "vscode": {
     "languageId": "r"
    }
   },
   "outputs": [
    {
     "name": "stderr",
     "output_type": "stream",
     "text": [
      "`stat_bin()` using `bins = 30`. Pick better value with `binwidth`.\n",
      "\n"
     ]
    }
   ],
   "source": [
    "ggsave(\"output.svg\", width = 18, height = 12, units = \"cm\")"
   ]
  },
  {
   "cell_type": "markdown",
   "metadata": {},
   "source": [
    "Em Sobreiras-Porto registou-se uma maior variância dos níveis de ozono, em relação às leituras no Restelo.\n",
    "Ambas as estações apresentam o centro da distribuição perto de 50 µg/m³."
   ]
  }
 ],
 "metadata": {
  "kernelspec": {
   "display_name": "R",
   "language": "R",
   "name": "ir"
  },
  "language_info": {
   "codemirror_mode": "r",
   "file_extension": ".r",
   "mimetype": "text/x-r-source",
   "name": "R",
   "pygments_lexer": "r",
   "version": "4.2.0"
  },
  "orig_nbformat": 4
 },
 "nbformat": 4,
 "nbformat_minor": 2
}
