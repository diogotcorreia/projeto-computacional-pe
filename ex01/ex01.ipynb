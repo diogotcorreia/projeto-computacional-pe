{
 "cells": [
  {
   "cell_type": "code",
   "execution_count": 34,
   "metadata": {
    "vscode": {
     "languageId": "r"
    }
   },
   "outputs": [],
   "source": [
    "library(\"openxlsx\")\n",
    "library(\"ggplot2\")\n",
    "library(\"tidyr\")"
   ]
  },
  {
   "cell_type": "code",
   "execution_count": 35,
   "metadata": {
    "vscode": {
     "languageId": "r"
    }
   },
   "outputs": [
    {
     "data": {
      "text/html": [
       "<table class=\"dataframe\">\n",
       "<caption>A data.frame: 31 × 3</caption>\n",
       "<thead>\n",
       "\t<tr><th></th><th scope=col>country</th><th scope=col>2004</th><th scope=col>2018</th></tr>\n",
       "\t<tr><th></th><th scope=col>&lt;chr&gt;</th><th scope=col>&lt;dbl&gt;</th><th scope=col>&lt;dbl&gt;</th></tr>\n",
       "</thead>\n",
       "<tbody>\n",
       "\t<tr><th scope=row>1</th><td>UE27 (2020) - União Europeia 27 (desde 2020)</td><td> 5.2</td><td> 5.2</td></tr>\n",
       "\t<tr><th scope=row>2</th><td>DE - Alemanha                               </td><td> 4.4</td><td> 4.9</td></tr>\n",
       "\t<tr><th scope=row>3</th><td>AT - Áustria                                </td><td> 6.5</td><td> 7.4</td></tr>\n",
       "\t<tr><th scope=row>4</th><td>BE - Bélgica                                </td><td> 5.1</td><td> 5.9</td></tr>\n",
       "\t<tr><th scope=row>5</th><td>BG - Bulgária                               </td><td>26.0</td><td>18.5</td></tr>\n",
       "\t<tr><th scope=row>6</th><td>CY - Chipre                                 </td><td> 3.1</td><td> 2.6</td></tr>\n",
       "\t<tr><th scope=row>7</th><td>HR - Croácia                                </td><td> 1.7</td><td> 1.4</td></tr>\n",
       "\t<tr><th scope=row>8</th><td>DK - Dinamarca                              </td><td> 2.3</td><td> 3.7</td></tr>\n",
       "\t<tr><th scope=row>9</th><td>SK - Eslováquia                             </td><td> 2.0</td><td> 2.3</td></tr>\n",
       "\t<tr><th scope=row>10</th><td>SI - Eslovénia                              </td><td> 2.9</td><td> 4.0</td></tr>\n",
       "\t<tr><th scope=row>11</th><td>ES - Espanha                                </td><td> 3.7</td><td> 2.9</td></tr>\n",
       "\t<tr><th scope=row>12</th><td>EE - Estónia                                </td><td>15.3</td><td>17.5</td></tr>\n",
       "\t<tr><th scope=row>13</th><td>FI - Finlândia                              </td><td>13.3</td><td>23.2</td></tr>\n",
       "\t<tr><th scope=row>14</th><td>FR - França                                 </td><td> 4.7</td><td> 5.1</td></tr>\n",
       "\t<tr><th scope=row>15</th><td>GR - Grécia                                 </td><td> 3.0</td><td> 4.2</td></tr>\n",
       "\t<tr><th scope=row>16</th><td>HU - Hungria                                </td><td> 2.4</td><td> 1.9</td></tr>\n",
       "\t<tr><th scope=row>17</th><td>IE - Irlanda                                </td><td> 6.0</td><td> 2.9</td></tr>\n",
       "\t<tr><th scope=row>18</th><td>IT - Itália                                 </td><td> 2.4</td><td> 2.9</td></tr>\n",
       "\t<tr><th scope=row>19</th><td>LV - Letónia                                </td><td> 0.6</td><td> 0.9</td></tr>\n",
       "\t<tr><th scope=row>20</th><td>LT - Lituânia                               </td><td> 2.1</td><td> 2.5</td></tr>\n",
       "\t<tr><th scope=row>21</th><td>LU - Luxemburgo                             </td><td>18.2</td><td>14.8</td></tr>\n",
       "\t<tr><th scope=row>22</th><td>MT - Malta                                  </td><td> 7.8</td><td> 5.2</td></tr>\n",
       "\t<tr><th scope=row>23</th><td>NL - Países Baixos                          </td><td> 5.7</td><td> 8.4</td></tr>\n",
       "\t<tr><th scope=row>24</th><td>PL - Polónia                                </td><td> 3.6</td><td> 4.6</td></tr>\n",
       "\t<tr><th scope=row>25</th><td>PT - Portugal                               </td><td> 2.8</td><td> 1.5</td></tr>\n",
       "\t<tr><th scope=row>26</th><td>CZ - República Checa                        </td><td> 2.9</td><td> 2.6</td></tr>\n",
       "\t<tr><th scope=row>27</th><td>RO - Roménia                                </td><td>17.2</td><td>10.4</td></tr>\n",
       "\t<tr><th scope=row>28</th><td>SE - Suécia                                 </td><td>10.2</td><td>13.6</td></tr>\n",
       "\t<tr><th scope=row>29</th><td>IS - Islândia                               </td><td> 1.7</td><td> 3.7</td></tr>\n",
       "\t<tr><th scope=row>30</th><td>NO - Noruega                                </td><td> 1.6</td><td> 2.7</td></tr>\n",
       "\t<tr><th scope=row>31</th><td>UK - Reino Unido                            </td><td> 5.0</td><td> 4.2</td></tr>\n",
       "</tbody>\n",
       "</table>\n"
      ],
      "text/latex": [
       "A data.frame: 31 × 3\n",
       "\\begin{tabular}{r|lll}\n",
       "  & country & 2004 & 2018\\\\\n",
       "  & <chr> & <dbl> & <dbl>\\\\\n",
       "\\hline\n",
       "\t1 & UE27 (2020) - União Europeia 27 (desde 2020) &  5.2 &  5.2\\\\\n",
       "\t2 & DE - Alemanha                                &  4.4 &  4.9\\\\\n",
       "\t3 & AT - Áustria                                 &  6.5 &  7.4\\\\\n",
       "\t4 & BE - Bélgica                                 &  5.1 &  5.9\\\\\n",
       "\t5 & BG - Bulgária                                & 26.0 & 18.5\\\\\n",
       "\t6 & CY - Chipre                                  &  3.1 &  2.6\\\\\n",
       "\t7 & HR - Croácia                                 &  1.7 &  1.4\\\\\n",
       "\t8 & DK - Dinamarca                               &  2.3 &  3.7\\\\\n",
       "\t9 & SK - Eslováquia                              &  2.0 &  2.3\\\\\n",
       "\t10 & SI - Eslovénia                               &  2.9 &  4.0\\\\\n",
       "\t11 & ES - Espanha                                 &  3.7 &  2.9\\\\\n",
       "\t12 & EE - Estónia                                 & 15.3 & 17.5\\\\\n",
       "\t13 & FI - Finlândia                               & 13.3 & 23.2\\\\\n",
       "\t14 & FR - França                                  &  4.7 &  5.1\\\\\n",
       "\t15 & GR - Grécia                                  &  3.0 &  4.2\\\\\n",
       "\t16 & HU - Hungria                                 &  2.4 &  1.9\\\\\n",
       "\t17 & IE - Irlanda                                 &  6.0 &  2.9\\\\\n",
       "\t18 & IT - Itália                                  &  2.4 &  2.9\\\\\n",
       "\t19 & LV - Letónia                                 &  0.6 &  0.9\\\\\n",
       "\t20 & LT - Lituânia                                &  2.1 &  2.5\\\\\n",
       "\t21 & LU - Luxemburgo                              & 18.2 & 14.8\\\\\n",
       "\t22 & MT - Malta                                   &  7.8 &  5.2\\\\\n",
       "\t23 & NL - Países Baixos                           &  5.7 &  8.4\\\\\n",
       "\t24 & PL - Polónia                                 &  3.6 &  4.6\\\\\n",
       "\t25 & PT - Portugal                                &  2.8 &  1.5\\\\\n",
       "\t26 & CZ - República Checa                         &  2.9 &  2.6\\\\\n",
       "\t27 & RO - Roménia                                 & 17.2 & 10.4\\\\\n",
       "\t28 & SE - Suécia                                  & 10.2 & 13.6\\\\\n",
       "\t29 & IS - Islândia                                &  1.7 &  3.7\\\\\n",
       "\t30 & NO - Noruega                                 &  1.6 &  2.7\\\\\n",
       "\t31 & UK - Reino Unido                             &  5.0 &  4.2\\\\\n",
       "\\end{tabular}\n"
      ],
      "text/markdown": [
       "\n",
       "A data.frame: 31 × 3\n",
       "\n",
       "| <!--/--> | country &lt;chr&gt; | 2004 &lt;dbl&gt; | 2018 &lt;dbl&gt; |\n",
       "|---|---|---|---|\n",
       "| 1 | UE27 (2020) - União Europeia 27 (desde 2020) |  5.2 |  5.2 |\n",
       "| 2 | DE - Alemanha                                |  4.4 |  4.9 |\n",
       "| 3 | AT - Áustria                                 |  6.5 |  7.4 |\n",
       "| 4 | BE - Bélgica                                 |  5.1 |  5.9 |\n",
       "| 5 | BG - Bulgária                                | 26.0 | 18.5 |\n",
       "| 6 | CY - Chipre                                  |  3.1 |  2.6 |\n",
       "| 7 | HR - Croácia                                 |  1.7 |  1.4 |\n",
       "| 8 | DK - Dinamarca                               |  2.3 |  3.7 |\n",
       "| 9 | SK - Eslováquia                              |  2.0 |  2.3 |\n",
       "| 10 | SI - Eslovénia                               |  2.9 |  4.0 |\n",
       "| 11 | ES - Espanha                                 |  3.7 |  2.9 |\n",
       "| 12 | EE - Estónia                                 | 15.3 | 17.5 |\n",
       "| 13 | FI - Finlândia                               | 13.3 | 23.2 |\n",
       "| 14 | FR - França                                  |  4.7 |  5.1 |\n",
       "| 15 | GR - Grécia                                  |  3.0 |  4.2 |\n",
       "| 16 | HU - Hungria                                 |  2.4 |  1.9 |\n",
       "| 17 | IE - Irlanda                                 |  6.0 |  2.9 |\n",
       "| 18 | IT - Itália                                  |  2.4 |  2.9 |\n",
       "| 19 | LV - Letónia                                 |  0.6 |  0.9 |\n",
       "| 20 | LT - Lituânia                                |  2.1 |  2.5 |\n",
       "| 21 | LU - Luxemburgo                              | 18.2 | 14.8 |\n",
       "| 22 | MT - Malta                                   |  7.8 |  5.2 |\n",
       "| 23 | NL - Países Baixos                           |  5.7 |  8.4 |\n",
       "| 24 | PL - Polónia                                 |  3.6 |  4.6 |\n",
       "| 25 | PT - Portugal                                |  2.8 |  1.5 |\n",
       "| 26 | CZ - República Checa                         |  2.9 |  2.6 |\n",
       "| 27 | RO - Roménia                                 | 17.2 | 10.4 |\n",
       "| 28 | SE - Suécia                                  | 10.2 | 13.6 |\n",
       "| 29 | IS - Islândia                                |  1.7 |  3.7 |\n",
       "| 30 | NO - Noruega                                 |  1.6 |  2.7 |\n",
       "| 31 | UK - Reino Unido                             |  5.0 |  4.2 |\n",
       "\n"
      ],
      "text/plain": [
       "   country                                      2004 2018\n",
       "1  UE27 (2020) - União Europeia 27 (desde 2020)  5.2  5.2\n",
       "2  DE - Alemanha                                 4.4  4.9\n",
       "3  AT - Áustria                                  6.5  7.4\n",
       "4  BE - Bélgica                                  5.1  5.9\n",
       "5  BG - Bulgária                                26.0 18.5\n",
       "6  CY - Chipre                                   3.1  2.6\n",
       "7  HR - Croácia                                  1.7  1.4\n",
       "8  DK - Dinamarca                                2.3  3.7\n",
       "9  SK - Eslováquia                               2.0  2.3\n",
       "10 SI - Eslovénia                                2.9  4.0\n",
       "11 ES - Espanha                                  3.7  2.9\n",
       "12 EE - Estónia                                 15.3 17.5\n",
       "13 FI - Finlândia                               13.3 23.2\n",
       "14 FR - França                                   4.7  5.1\n",
       "15 GR - Grécia                                   3.0  4.2\n",
       "16 HU - Hungria                                  2.4  1.9\n",
       "17 IE - Irlanda                                  6.0  2.9\n",
       "18 IT - Itália                                   2.4  2.9\n",
       "19 LV - Letónia                                  0.6  0.9\n",
       "20 LT - Lituânia                                 2.1  2.5\n",
       "21 LU - Luxemburgo                              18.2 14.8\n",
       "22 MT - Malta                                    7.8  5.2\n",
       "23 NL - Países Baixos                            5.7  8.4\n",
       "24 PL - Polónia                                  3.6  4.6\n",
       "25 PT - Portugal                                 2.8  1.5\n",
       "26 CZ - República Checa                          2.9  2.6\n",
       "27 RO - Roménia                                 17.2 10.4\n",
       "28 SE - Suécia                                  10.2 13.6\n",
       "29 IS - Islândia                                 1.7  3.7\n",
       "30 NO - Noruega                                  1.6  2.7\n",
       "31 UK - Reino Unido                              5.0  4.2"
      ]
     },
     "metadata": {},
     "output_type": "display_data"
    }
   ],
   "source": [
    "df <- read.xlsx(\n",
    "  xlsxFile = \"ResiduosPerCapita.xlsx\",\n",
    "  sheet = 1,\n",
    "  cols = c(1:3),\n",
    "  rows = c(11:43),\n",
    ")\n",
    "names(df) <- c(\"country\", \"2004\", \"2018\")\n",
    "df"
   ]
  },
  {
   "cell_type": "code",
   "execution_count": 36,
   "metadata": {
    "vscode": {
     "languageId": "r"
    }
   },
   "outputs": [],
   "source": [
    "year_columns <- names(df)[c(2:length(names(df)))]\n",
    "df_hue <- df %>%\n",
    "  pivot_longer(all_of(year_columns), names_to = \"year\", values_to = \"res_per_cap\")"
   ]
  },
  {
   "cell_type": "code",
   "execution_count": 37,
   "metadata": {
    "vscode": {
     "languageId": "r"
    }
   },
   "outputs": [
    {
     "data": {
      "text/html": [
       "<table class=\"dataframe\">\n",
       "<caption>A tibble: 6 × 3</caption>\n",
       "<thead>\n",
       "\t<tr><th scope=col>country</th><th scope=col>year</th><th scope=col>res_per_cap</th></tr>\n",
       "\t<tr><th scope=col>&lt;chr&gt;</th><th scope=col>&lt;chr&gt;</th><th scope=col>&lt;dbl&gt;</th></tr>\n",
       "</thead>\n",
       "<tbody>\n",
       "\t<tr><td>DE - Alemanha</td><td>2004</td><td>4.4</td></tr>\n",
       "\t<tr><td>DE - Alemanha</td><td>2018</td><td>4.9</td></tr>\n",
       "\t<tr><td>AT - Áustria </td><td>2004</td><td>6.5</td></tr>\n",
       "\t<tr><td>AT - Áustria </td><td>2018</td><td>7.4</td></tr>\n",
       "\t<tr><td>PT - Portugal</td><td>2004</td><td>2.8</td></tr>\n",
       "\t<tr><td>PT - Portugal</td><td>2018</td><td>1.5</td></tr>\n",
       "</tbody>\n",
       "</table>\n"
      ],
      "text/latex": [
       "A tibble: 6 × 3\n",
       "\\begin{tabular}{lll}\n",
       " country & year & res\\_per\\_cap\\\\\n",
       " <chr> & <chr> & <dbl>\\\\\n",
       "\\hline\n",
       "\t DE - Alemanha & 2004 & 4.4\\\\\n",
       "\t DE - Alemanha & 2018 & 4.9\\\\\n",
       "\t AT - Áustria  & 2004 & 6.5\\\\\n",
       "\t AT - Áustria  & 2018 & 7.4\\\\\n",
       "\t PT - Portugal & 2004 & 2.8\\\\\n",
       "\t PT - Portugal & 2018 & 1.5\\\\\n",
       "\\end{tabular}\n"
      ],
      "text/markdown": [
       "\n",
       "A tibble: 6 × 3\n",
       "\n",
       "| country &lt;chr&gt; | year &lt;chr&gt; | res_per_cap &lt;dbl&gt; |\n",
       "|---|---|---|\n",
       "| DE - Alemanha | 2004 | 4.4 |\n",
       "| DE - Alemanha | 2018 | 4.9 |\n",
       "| AT - Áustria  | 2004 | 6.5 |\n",
       "| AT - Áustria  | 2018 | 7.4 |\n",
       "| PT - Portugal | 2004 | 2.8 |\n",
       "| PT - Portugal | 2018 | 1.5 |\n",
       "\n"
      ],
      "text/plain": [
       "  country       year res_per_cap\n",
       "1 DE - Alemanha 2004 4.4        \n",
       "2 DE - Alemanha 2018 4.9        \n",
       "3 AT - Áustria  2004 6.5        \n",
       "4 AT - Áustria  2018 7.4        \n",
       "5 PT - Portugal 2004 2.8        \n",
       "6 PT - Portugal 2018 1.5        "
      ]
     },
     "metadata": {},
     "output_type": "display_data"
    }
   ],
   "source": [
    "df_filtered = df_hue[df_hue$`country` %in% c(\"AT - Áustria\", \"DE - Alemanha\", \"PT - Portugal\"), ]\n",
    "df_filtered"
   ]
  },
  {
   "cell_type": "code",
   "execution_count": 38,
   "metadata": {
    "vscode": {
     "languageId": "r"
    }
   },
   "outputs": [
    {
     "data": {
      "image/png": "[encoded data removed]",
      "text/plain": [
       "plot without title"
      ]
     },
     "metadata": {
      "image/png": {
       "height": 420,
       "width": 420
      }
     },
     "output_type": "display_data"
    }
   ],
   "source": [
    "ggplot(df_filtered, aes(x = country, y = res_per_cap, fill = factor(year))) +\n",
    "  geom_col(position = \"dodge\", colour = \"black\") +\n",
    "  geom_text(\n",
    "    aes(label = res_per_cap), vjust = 1.5,\n",
    "    colour = \"black\", size = 6,\n",
    "    position = position_dodge(.9)\n",
    "  ) +\n",
    "  scale_fill_brewer(palette = \"Pastel2\") +\n",
    "  xlab(\"País\") +\n",
    "  ylab(\"Resíduos Produzidos Per Capita (Toneladas)\") +\n",
    "  labs(fill = \"Ano\", subtitle = \"na Áustria, Alemanha e Portugal\") +\n",
    "  ggtitle(\"Resíduos Produzidos Per Capita (Tolenada) em 2004 e 2018\")"
   ]
  },
  {
   "cell_type": "markdown",
   "metadata": {},
   "source": [
    "Pelo diagrama obtido, podemos concluir que tanto na Áustria como na Alemanha houve um aumento dos resíduos produzidos\n",
    "per capita entre 2004 e 2018. Por outro lado, em Portugal houve uma descida no mesmo período.\n",
    "Entre países, observamos que existe uma maior produção de resíduos na Áustria, seguida a Alemanha e por fim Portugal."
   ]
  }
 ],
 "metadata": {
  "kernelspec": {
   "display_name": "R",
   "language": "R",
   "name": "ir"
  },
  "language_info": {
   "codemirror_mode": "r",
   "file_extension": ".r",
   "mimetype": "text/x-r-source",
   "name": "R",
   "pygments_lexer": "r",
   "version": "4.2.0"
  },
  "orig_nbformat": 4
 },
 "nbformat": 4,
 "nbformat_minor": 2
}
