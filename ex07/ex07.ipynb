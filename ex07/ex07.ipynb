{
 "cells": [
  {
   "cell_type": "code",
   "execution_count": 12,
   "metadata": {
    "vscode": {
     "languageId": "r"
    }
   },
   "outputs": [],
   "source": [
    "SEED <- 1514\n",
    "SAMPLE_COUNT <- 8570\n",
    "SAMPLE_SIZE <- 142\n",
    "BINOM_N <- 42\n",
    "BINOM_P <- 0.36"
   ]
  },
  {
   "cell_type": "code",
   "execution_count": 13,
   "metadata": {
    "vscode": {
     "languageId": "r"
    }
   },
   "outputs": [],
   "source": [
    "set.seed(SEED)"
   ]
  },
  {
   "cell_type": "code",
   "execution_count": 14,
   "metadata": {
    "vscode": {
     "languageId": "r"
    }
   },
   "outputs": [
    {
     "data": {
      "text/html": [
       "15.1208703798051"
      ],
      "text/latex": [
       "15.1208703798051"
      ],
      "text/markdown": [
       "15.1208703798051"
      ],
      "text/plain": [
       "[1] 15.12087"
      ]
     },
     "metadata": {},
     "output_type": "display_data"
    }
   ],
   "source": [
    "average <- c()\n",
    "for (i in 1:SAMPLE_COUNT) {\n",
    "  samples <- rbinom(SAMPLE_SIZE, BINOM_N, BINOM_P)\n",
    "  average <- append(average, mean(samples))\n",
    "}\n",
    "empirical <- mean(average)\n",
    "empirical"
   ]
  },
  {
   "cell_type": "code",
   "execution_count": 15,
   "metadata": {
    "vscode": {
     "languageId": "r"
    }
   },
   "outputs": [
    {
     "data": {
      "text/html": [
       "15.12"
      ],
      "text/latex": [
       "15.12"
      ],
      "text/markdown": [
       "15.12"
      ],
      "text/plain": [
       "[1] 15.12"
      ]
     },
     "metadata": {},
     "output_type": "display_data"
    }
   ],
   "source": [
    "theorical <- BINOM_N * BINOM_P\n",
    "theorical"
   ]
  },
  {
   "cell_type": "code",
   "execution_count": 16,
   "metadata": {
    "vscode": {
     "languageId": "r"
    }
   },
   "outputs": [
    {
     "data": {
      "text/html": [
       "0.000870379805085975"
      ],
      "text/latex": [
       "0.000870379805085975"
      ],
      "text/markdown": [
       "0.000870379805085975"
      ],
      "text/plain": [
       "[1] 0.0008703798"
      ]
     },
     "metadata": {},
     "output_type": "display_data"
    }
   ],
   "source": [
    "abs(empirical - theorical)"
   ]
  }
 ],
 "metadata": {
  "kernelspec": {
   "display_name": "R",
   "language": "R",
   "name": "ir"
  },
  "language_info": {
   "codemirror_mode": "r",
   "file_extension": ".r",
   "mimetype": "text/x-r-source",
   "name": "R",
   "pygments_lexer": "r",
   "version": "4.2.0"
  },
  "orig_nbformat": 4
 },
 "nbformat": 4,
 "nbformat_minor": 2
}
